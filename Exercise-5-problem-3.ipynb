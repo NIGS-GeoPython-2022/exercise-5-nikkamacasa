{
 "cells": [
  {
   "cell_type": "markdown",
   "metadata": {
    "deletable": false,
    "editable": false,
    "nbgrader": {
     "cell_type": "markdown",
     "checksum": "2190fdba31b6f247358b0af31bbe343e",
     "grade": false,
     "grade_id": "Intro_text",
     "locked": true,
     "schema_version": 3,
     "solution": false
    },
    "tags": []
   },
   "source": [
    "## Problem 3 - Data analysis (4 points)\n",
    "\n",
    "In this problem we will explore our temperature data by comparing spring temperatures between Helsinki Kumpula and Rovaniemi. To do this we'll use some conditions to extract subsets of our data and then analyse these subsets using basic pandas functions. Please perform the tasks below by writing your code into the codeblocks in each section.\n",
    "\n",
    "### Tips for completing this problem\n",
    "\n",
    "- Use **exactly** the same variable names as in the instructions.\n",
    "- **Please do not**:\n",
    "\n",
    "    - **Change the file names**. Do all of your editing in the provided `Exercise-5-problem-3.ipynb` file (this file).\n",
    "    - **Change the existing cell types**. You can add cells, but changing the cell types for existing cells (from code to markdown, for example) will also cause the automated grader to fail. \n",
    "\n",
    "### Scores for this problem\n",
    "\n",
    "**Your score on this problem will be based on following criteria:**\n",
    "\n",
    "- Calculating the median temperatures for Mactan and Hinatuan for March-May of 2018\n",
    "- Selecting temperatures for April and December 2018 in separate dataframes for each location\n",
    "- Printing out some summary values for each month (April, December) and location (Mactan, Hinatuan)\n",
    "- Including comments that explain what most lines in the code do\n",
    "- Answering a couple questions at the end of the problem\n",
    "- Uploading your notebook and data files to your GitHub repository for this week's exercise"
   ]
  },
  {
   "cell_type": "markdown",
   "metadata": {
    "deletable": false,
    "editable": false,
    "nbgrader": {
     "cell_type": "markdown",
     "checksum": "1b6ab534a2cd475117b7d0016c7cf9f3",
     "grade": false,
     "grade_id": "cell-33c2d0518738c711",
     "locked": true,
     "schema_version": 3,
     "solution": false,
     "task": false
    },
    "tags": []
   },
   "source": [
    "### Part 1 (0 points)\n",
    "\n",
    "First, you need to load the data from Problem 2.\n",
    "\n",
    "- Read in the csv files generated in Problem 2 to the variables `mactan` and `hinatuan`"
   ]
  },
  {
   "cell_type": "code",
   "execution_count": 1,
   "metadata": {
    "deletable": false,
    "nbgrader": {
     "cell_type": "code",
     "checksum": "deb603f4e6e03059689d01f3d8ca3044",
     "grade": false,
     "grade_id": "problem_3_ag_p1_read_data",
     "locked": false,
     "schema_version": 3,
     "solution": true
    }
   },
   "outputs": [],
   "source": [
    "mactan = None\n",
    "hinatuan = None\n",
    "\n",
    "# YOUR CODE HERE\n",
    "#Import the pandas module\n",
    "import pandas as pd\n",
    "\n",
    "#Import the ph_tempdata.csv file and store * characters as NaN\n",
    "mactan = pd.read_csv(\"Mactan_temps_2019-01_2020-12.csv\")\n",
    "hinatuan = pd.read_csv(\"Rovaniemi_temps_2019-01_2020-12.csv\")"
   ]
  },
  {
   "cell_type": "code",
   "execution_count": 2,
   "metadata": {},
   "outputs": [
    {
     "name": "stdout",
     "output_type": "stream",
     "text": [
      "   Unnamed: 0      STATION        DATE   TEMP    MAX    MIN  Celsius\n",
      "0           0  RPM00098646  2017-01-01  79.70  86.00    NaN     26.5\n",
      "1           1  RPM00098646  2017-01-02  79.88  85.64    NaN     26.6\n",
      "2           2  RPM00098646  2017-01-03  82.40  88.52  76.64     28.0\n",
      "3           3  RPM00098646  2017-01-04  82.04  89.24    NaN     27.8\n",
      "4           4  RPM00098646  2017-01-05  81.32  88.52  77.00     27.4\n",
      "\n",
      "   Unnamed: 0      STATION        DATE   TEMP    MAX    MIN  Celsius\n",
      "0        1461  RP000098755  2017-01-01  80.06  84.20  75.20     26.7\n",
      "1        1462  RP000098755  2017-01-02  80.78  85.64  75.92     27.1\n",
      "2        1463  RP000098755  2017-01-03  79.88  85.28    NaN     26.6\n",
      "3        1464  RP000098755  2017-01-04  80.60  86.36  75.38     27.0\n",
      "4        1465  RP000098755  2017-01-05  77.72  89.06    NaN     25.4\n"
     ]
    }
   ],
   "source": [
    "print(mactan.head())\n",
    "print('')\n",
    "print(hinatuan.head())"
   ]
  },
  {
   "cell_type": "markdown",
   "metadata": {
    "deletable": false,
    "editable": false,
    "nbgrader": {
     "cell_type": "markdown",
     "checksum": "b74443c30f8df10c1f56cbf265d62a41",
     "grade": false,
     "grade_id": "cell-c25a29efbcf77ee7",
     "locked": true,
     "schema_version": 3,
     "solution": false,
     "task": false
    },
    "tags": []
   },
   "source": [
    "### Part 2 (1 points)\n",
    "\n",
    "Next you can find some median temperature values for the period the data covers.\n",
    "\n",
    "- What was the median Celsius temperature during the observed period in:\n",
    "    - Mactan, Cebu? (store the answer in a variable `mactan_median`)\n",
    "    - Hinatuan, Surigao del Sur? (store the answer in a variable `hinatuan_median`)"
   ]
  },
  {
   "cell_type": "code",
   "execution_count": 3,
   "metadata": {
    "deletable": false,
    "nbgrader": {
     "cell_type": "code",
     "checksum": "975856c4e5d377c3aaabec3af0fe53da",
     "grade": false,
     "grade_id": "problem_3_ag_p2_median",
     "locked": false,
     "schema_version": 3,
     "solution": true
    }
   },
   "outputs": [],
   "source": [
    "mactan_median = None\n",
    "hinatuan_median = None\n",
    "\n",
    "# YOUR CODE HERE\n",
    "#Calculate \n",
    "mactan_median = mactan['Celsius'].median()\n",
    "hinatuan_median = hinatuan['Celsius'].median()"
   ]
  },
  {
   "cell_type": "code",
   "execution_count": 4,
   "metadata": {
    "deletable": false,
    "editable": false,
    "nbgrader": {
     "cell_type": "code",
     "checksum": "c74731bd13e85d92c4c9c1b77dabc589",
     "grade": true,
     "grade_id": "problem_3_ag_p2_median_test",
     "locked": true,
     "points": 1,
     "schema_version": 3,
     "solution": false
    },
    "tags": []
   },
   "outputs": [
    {
     "name": "stdout",
     "output_type": "stream",
     "text": [
      "Mactan median: 28.1\n",
      "Hinatuan median: 27.3\n"
     ]
    }
   ],
   "source": [
    "# Prints the median temperatures\n",
    "print(f\"Mactan median: {mactan_median}\")\n",
    "print(f\"Hinatuan median: {hinatuan_median}\")\n"
   ]
  },
  {
   "cell_type": "markdown",
   "metadata": {
    "deletable": false,
    "editable": false,
    "nbgrader": {
     "cell_type": "markdown",
     "checksum": "177502bb4ee7abc753b57a16250f3c15",
     "grade": false,
     "grade_id": "cell-6eda08b036b421d9",
     "locked": true,
     "schema_version": 3,
     "solution": false,
     "task": false
    },
    "tags": []
   },
   "source": [
    "### Part 3 (2 points)\n",
    "\n",
    "The median temperatures above consider data from the entire \"summer\" (Mar-May), hence the differences might not be so clear. Let's now find out the mean temperatures from March and May 2018 in Mactan and Hinatuan.\n",
    "\n",
    "- From the `mactan` and `hinatuan` DataFrames, select the rows where values of the `DATE` column are from March 2018\n",
    "    - Assign these selected rows into the variables `mactan_mar` and `hinatuan_mar` (you can check the [hints](https://geo-python.github.io/site/lessons/L5/exercise-5.html) for help!)\n",
    "- Repeat the procedure for the month of May and assign those values into variables to `mactan_may` and `hinatuan_may`"
   ]
  },
  {
   "cell_type": "code",
   "execution_count": 5,
   "metadata": {
    "deletable": false,
    "nbgrader": {
     "cell_type": "code",
     "checksum": "e658e48c072ada99e4541860ebaf0095",
     "grade": false,
     "grade_id": "problem_3_ag_p3_may",
     "locked": false,
     "schema_version": 3,
     "solution": true
    },
    "tags": []
   },
   "outputs": [],
   "source": [
    "# Select the subset of the Mactan and Hinatuan data for the 3rd and 5th month\n",
    "mactan_mar = None\n",
    "hinatuan_mar = None\n",
    "\n",
    "mactan_may = None\n",
    "hinatuan_may = None\n",
    "\n",
    "# YOUR CODE HERE\n",
    "#Select the subset of the Mactan and Hinatuan data for March\n",
    "mactan_mar = mactan.loc[(mactan['DATE'] >= '2017-03-01') & (mactan['DATE'] <= '2017-03-31')]\n",
    "hinatuan_mar = hinatuan.loc[(hinatuan['DATE'] >= '2017-03-01') & (hinatuan['DATE'] <= '2017-03-31')]\n",
    "\n",
    "#Select the subset of the Mactan and Hinatuan data for May\n",
    "mactan_may = mactan.loc[(mactan['DATE'] >= '2017-05-01') & (mactan['DATE'] <= '2017-05-31')]\n",
    "hinatuan_may = hinatuan.loc[(hinatuan['DATE'] >= '2017-05-01') & (hinatuan['DATE'] <= '2017-05-31')]"
   ]
  },
  {
   "cell_type": "markdown",
   "metadata": {
    "deletable": false,
    "editable": false,
    "nbgrader": {
     "cell_type": "markdown",
     "checksum": "ced113a7a44f6c3bc88de58a3dc62056",
     "grade": false,
     "grade_id": "cell-c20a16ae3d1442cb",
     "locked": true,
     "schema_version": 3,
     "solution": false,
     "task": false
    }
   },
   "source": [
    "Check that the subsets look ok:"
   ]
  },
  {
   "cell_type": "code",
   "execution_count": 6,
   "metadata": {
    "deletable": false,
    "editable": false,
    "nbgrader": {
     "cell_type": "code",
     "checksum": "2b46b5ac73b0c1ecdec568ab8da5f07d",
     "grade": true,
     "grade_id": "problem_3_ag_p3_Kumpula_may_test",
     "locked": true,
     "points": 0.5,
     "schema_version": 3,
     "solution": false
    },
    "tags": []
   },
   "outputs": [
    {
     "name": "stdout",
     "output_type": "stream",
     "text": [
      "First values in March, Mactan:\n",
      "    Unnamed: 0      STATION        DATE   TEMP    MAX    MIN  Celsius\n",
      "59          59  RPM00098646  2017-03-01  81.50  87.80  75.20     27.5\n",
      "60          60  RPM00098646  2017-03-02  81.68  88.70  76.82     27.6\n",
      "61          61  RPM00098646  2017-03-03  80.96  88.34    NaN     27.2\n",
      "62          62  RPM00098646  2017-03-04  81.32  88.70  75.56     27.4\n",
      "63          63  RPM00098646  2017-03-05  82.04    NaN  76.46     27.8\n",
      "\n",
      "Last values in March, Mactan:\n",
      "    Unnamed: 0      STATION        DATE   TEMP    MAX    MIN  Celsius\n",
      "85          85  RPM00098646  2017-03-27  82.76  88.70  78.44     28.2\n",
      "86          86  RPM00098646  2017-03-28  80.24  85.28    NaN     26.8\n",
      "87          87  RPM00098646  2017-03-29  82.22  88.16  75.92     27.9\n",
      "88          88  RPM00098646  2017-03-30  79.34  85.10    NaN     26.3\n",
      "89          89  RPM00098646  2017-03-31  78.08  81.50  75.92     25.6\n"
     ]
    }
   ],
   "source": [
    "print(f\"First values in March, Mactan:\\n{mactan_mar.head()}\\n\")\n",
    "print(f\"Last values in March, Mactan:\\n{mactan_mar.tail()}\")"
   ]
  },
  {
   "cell_type": "code",
   "execution_count": 7,
   "metadata": {
    "deletable": false,
    "editable": false,
    "nbgrader": {
     "cell_type": "code",
     "checksum": "e4d83fa396f745a05cfd902c4107fc23",
     "grade": true,
     "grade_id": "problem_3_ag_p3_Kumpula_june_test",
     "locked": true,
     "points": 0.5,
     "schema_version": 3,
     "solution": false,
     "task": false
    },
    "tags": []
   },
   "outputs": [
    {
     "name": "stdout",
     "output_type": "stream",
     "text": [
      "First values in May, Mactan:\n",
      "     Unnamed: 0      STATION        DATE   TEMP    MAX    MIN  Celsius\n",
      "120         120  RPM00098646  2017-05-01  85.10  92.30  78.08     29.5\n",
      "121         121  RPM00098646  2017-05-02  86.00  94.10  79.16     30.0\n",
      "122         122  RPM00098646  2017-05-03  82.58  92.30    NaN     28.1\n",
      "123         123  RPM00098646  2017-05-04  84.92  90.32  74.30     29.4\n",
      "124         124  RPM00098646  2017-05-05  85.46  90.68  79.88     29.7\n",
      "\n",
      "Last values in May, Mactan:\n",
      "     Unnamed: 0      STATION        DATE   TEMP    MAX    MIN  Celsius\n",
      "146         146  RPM00098646  2017-05-27  85.46  91.58  79.52     29.7\n",
      "147         147  RPM00098646  2017-05-28  85.46    NaN    NaN     29.7\n",
      "148         148  RPM00098646  2017-05-29  86.18  91.94    NaN     30.1\n",
      "149         149  RPM00098646  2017-05-30  85.64  92.48    NaN     29.8\n",
      "150         150  RPM00098646  2017-05-31  84.74  92.48    NaN     29.3\n"
     ]
    }
   ],
   "source": [
    "print(f\"First values in May, Mactan:\\n{mactan_may.head()}\\n\")\n",
    "print(f\"Last values in May, Mactan:\\n{mactan_may.tail()}\")"
   ]
  },
  {
   "cell_type": "code",
   "execution_count": 8,
   "metadata": {
    "deletable": false,
    "editable": false,
    "nbgrader": {
     "cell_type": "code",
     "checksum": "227099ba97029cbeb597834860f637b2",
     "grade": true,
     "grade_id": "problem_3_ag_p3_Rovaniemi_may_test",
     "locked": true,
     "points": 0.5,
     "schema_version": 3,
     "solution": false
    },
    "tags": []
   },
   "outputs": [
    {
     "name": "stdout",
     "output_type": "stream",
     "text": [
      "First values in March, Hinatuan:\n",
      "    Unnamed: 0      STATION        DATE   TEMP    MAX    MIN  Celsius\n",
      "59        1520  RP000098755  2017-03-01  80.06  86.18    NaN     26.7\n",
      "60        1521  RP000098755  2017-03-02  76.46  81.50  73.40     24.7\n",
      "61        1522  RP000098755  2017-03-03  77.18  82.76  73.40     25.1\n",
      "62        1523  RP000098755  2017-03-04  80.24  85.46  74.30     26.8\n",
      "63        1524  RP000098755  2017-03-05  76.64  80.24  74.12     24.8\n",
      "\n",
      "Last values in March, Hinatuan:\n",
      "    Unnamed: 0      STATION        DATE   TEMP    MAX   MIN  Celsius\n",
      "85        1546  RP000098755  2017-03-27  81.32  86.36  77.0     27.4\n",
      "86        1547  RP000098755  2017-03-28  78.98  89.24   NaN     26.1\n",
      "87        1548  RP000098755  2017-03-29  82.22  88.16  74.3     27.9\n",
      "88        1549  RP000098755  2017-03-30  81.14  86.54   NaN     27.3\n",
      "89        1550  RP000098755  2017-03-31  80.78  88.70   NaN     27.1\n"
     ]
    }
   ],
   "source": [
    "print(f\"First values in March, Hinatuan:\\n{hinatuan_mar.head()}\\n\")\n",
    "print(f\"Last values in March, Hinatuan:\\n{hinatuan_mar.tail()}\")"
   ]
  },
  {
   "cell_type": "code",
   "execution_count": 9,
   "metadata": {
    "deletable": false,
    "editable": false,
    "nbgrader": {
     "cell_type": "code",
     "checksum": "b1479509bbe424439169f91d57fa1c54",
     "grade": true,
     "grade_id": "problem_3_ag_p3_Rovaniemi_june_test",
     "locked": true,
     "points": 0.5,
     "schema_version": 3,
     "solution": false,
     "task": false
    },
    "tags": []
   },
   "outputs": [
    {
     "name": "stdout",
     "output_type": "stream",
     "text": [
      "First values in May, Hinatuan:\n",
      "     Unnamed: 0      STATION        DATE   TEMP    MAX   MIN  Celsius\n",
      "120        1581  RP000098755  2017-05-01  83.48    NaN  77.0     28.6\n",
      "121        1582  RP000098755  2017-05-02  82.94  88.88  77.0     28.3\n",
      "122        1583  RP000098755  2017-05-03  82.22  90.68   NaN     27.9\n",
      "123        1584  RP000098755  2017-05-04  82.94  91.58  76.1     28.3\n",
      "124        1585  RP000098755  2017-05-05  81.86  92.48  76.1     27.7\n",
      "\n",
      "Last values in May, Hinatuan:\n",
      "     Unnamed: 0      STATION        DATE   TEMP    MAX    MIN  Celsius\n",
      "146        1607  RP000098755  2017-05-27  85.46  93.38  78.08     29.7\n",
      "147        1608  RP000098755  2017-05-28  85.64  93.56  78.08     29.8\n",
      "148        1609  RP000098755  2017-05-29  82.04  91.94    NaN     27.8\n",
      "149        1610  RP000098755  2017-05-30  82.76  92.30  75.20     28.2\n",
      "150        1611  RP000098755  2017-05-31  84.02  94.10  76.46     28.9\n"
     ]
    }
   ],
   "source": [
    "print(f\"First values in May, Hinatuan:\\n{hinatuan_may.head()}\\n\")\n",
    "print(f\"Last values in May, Hinatuan:\\n{hinatuan_may.tail()}\")"
   ]
  },
  {
   "cell_type": "markdown",
   "metadata": {
    "deletable": false,
    "editable": false,
    "nbgrader": {
     "cell_type": "markdown",
     "checksum": "a65a68a4bf3075ccc9de3bb5ce5266c1",
     "grade": false,
     "grade_id": "cell-5d735e872f16ccd5",
     "locked": true,
     "schema_version": 3,
     "solution": false,
     "task": false
    },
    "tags": []
   },
   "source": [
    "### Part 4 (1 point)\n",
    "\n",
    "Now you can make your temperature data from both locations and months easier to compare by printing out a few useful values.\n",
    "\n",
    "- Use the `print()` function to show the mean, min and max Celsius temperatures for both places in March and May using the new subset dataframes (`mactan_mar`, `hinatuan_mar`, `mactan_may`, and `hinatuan_may`)."
   ]
  },
  {
   "cell_type": "code",
   "execution_count": 10,
   "metadata": {
    "deletable": false,
    "nbgrader": {
     "cell_type": "code",
     "checksum": "12a6c95dd173d219530d35b72f81490f",
     "grade": true,
     "grade_id": "problem_3_mg_p4_May_and_June_stats",
     "locked": false,
     "points": 1,
     "schema_version": 3,
     "solution": true
    }
   },
   "outputs": [
    {
     "name": "stdout",
     "output_type": "stream",
     "text": [
      "The mean temperature in Mactan in March is 27.293548387096767 degrees Celsius.\n",
      "The mean temperature in Mactan in May is 29.045161290322582 degrees Celsius.\n",
      "The mean temperature in Hinatuan in March is 26.58064516129032 degrees Celsius.\n",
      "The mean temperature in Hinatuan in May is 28.02903225806451 degrees Celsius.\n",
      "\n",
      "The max temperature in Mactan in March is 28.9 degrees Celsius.\n",
      "The max temperature in Mactan in May is 30.1 degrees Celsius.\n",
      "The max temperature in Hinatuan in March is 27.9 degrees Celsius.\n",
      "The max temperature in Hinatuan in May is 29.8 degrees Celsius.\n",
      "\n",
      "The max temperature in Mactan in March is 25.6 degrees Celsius.\n",
      "The max temperature in Mactan in May is 27.3 degrees Celsius.\n",
      "The max temperature in Hinatuan in March is 24.1 degrees Celsius.\n",
      "The max temperature in Hinatuan in May is 24.9 degrees Celsius.\n"
     ]
    }
   ],
   "source": [
    "# YOUR CODE HERE\n",
    "#Convert float data to integer data\n",
    "mactan_mar['Celsius'].astype(int).head()\n",
    "hinatuan_mar['Celsius'].astype(int).head()\n",
    "mactan_may['Celsius'].astype(int).head()\n",
    "hinatuan_may['Celsius'].astype(int).head()\n",
    "\n",
    "#Print mean temperatures for both places in March and May\n",
    "print(\"The mean temperature in Mactan in March is\", mactan_mar['Celsius'].mean(), \"degrees Celsius.\")\n",
    "print('The mean temperature in Mactan in May is', mactan_may['Celsius'].mean(), \"degrees Celsius.\")\n",
    "print('The mean temperature in Hinatuan in March is', hinatuan_mar['Celsius'].mean(), \"degrees Celsius.\")\n",
    "print('The mean temperature in Hinatuan in May is', hinatuan_may['Celsius'].mean(), \"degrees Celsius.\")\n",
    "\n",
    "#Print max temperatures for both places in March and May\n",
    "print('')\n",
    "print('The max temperature in Mactan in March is', mactan_mar['Celsius'].max(), \"degrees Celsius.\")\n",
    "print('The max temperature in Mactan in May is', mactan_may['Celsius'].max(), \"degrees Celsius.\")\n",
    "print('The max temperature in Hinatuan in March is', hinatuan_mar['Celsius'].max(), \"degrees Celsius.\")\n",
    "print('The max temperature in Hinatuan in May is', hinatuan_may['Celsius'].max(), \"degrees Celsius.\")\n",
    "\n",
    "#Print min temperatures for both places in March and May\n",
    "print('')\n",
    "print('The max temperature in Mactan in March is', mactan_mar['Celsius'].min(), \"degrees Celsius.\")\n",
    "print('The max temperature in Mactan in May is', mactan_may['Celsius'].min(), \"degrees Celsius.\")\n",
    "print('The max temperature in Hinatuan in March is', hinatuan_mar['Celsius'].min(), \"degrees Celsius.\")\n",
    "print('The max temperature in Hinatuan in May is', hinatuan_may['Celsius'].min(), \"degrees Celsius.\")"
   ]
  },
  {
   "cell_type": "markdown",
   "metadata": {
    "deletable": false,
    "editable": false,
    "nbgrader": {
     "cell_type": "markdown",
     "checksum": "c19a758e3ace532979854894a73433a0",
     "grade": false,
     "grade_id": "comments",
     "locked": true,
     "schema_version": 3,
     "solution": false
    },
    "tags": []
   },
   "source": [
    "### Problem 3 summary\n",
    "\n",
    "In the spirit of [knowledge discovery](http://researcher.ibm.com/researcher/view_group.php?id=144), let's briefly interpret the results of the data analysis in Problem 3. Please answer the following questions based on the data analysis results from this problem:\n",
    "\n",
    "- Does there seem to be a large difference in temperatures between the months?\n",
    "- Is Hinatuan a much cooler place than Mactan?\n",
    "\n",
    "Also, be sure to:\n",
    "\n",
    "- Check that your code includes informative comments explaining what your code does\n",
    "- Commit and push your changes to your GitHub repository for Exercise 5"
   ]
  },
  {
   "cell_type": "markdown",
   "metadata": {
    "deletable": false,
    "nbgrader": {
     "cell_type": "markdown",
     "checksum": "1f0848d8fe16e12f1951ccdd1b5edf83",
     "grade": true,
     "grade_id": "problem_3_mg_p5_questions",
     "locked": false,
     "points": 0,
     "schema_version": 3,
     "solution": true,
     "task": false
    }
   },
   "source": [
    "- Does there seem to be a large difference in temperatures between the months?\n",
    "    - There is no significantly large difference in the temperatures between the months as there is only an approximately two degree difference between their mean temperatures in both places.\n",
    "- Is Hinatuan a much cooler place than Mactan?\n",
    "    - Hinatuan experiences cooler temperatures than Mactan."
   ]
  },
  {
   "cell_type": "markdown",
   "metadata": {
    "deletable": false,
    "editable": false,
    "nbgrader": {
     "cell_type": "markdown",
     "checksum": "0e5f52b74f4ffaea57ca77ace2732647",
     "grade": false,
     "grade_id": "text",
     "locked": true,
     "schema_version": 3,
     "solution": false
    }
   },
   "source": [
    "### On to Problem 4 (*optional*)\n",
    "\n",
    "Now you can continue to the *optional* [Problem 4: Data analysis](Exercise-5-problem-4.ipynb)"
   ]
  }
 ],
 "metadata": {
  "anaconda-cloud": {},
  "kernelspec": {
   "display_name": "Python 3 (ipykernel)",
   "language": "python",
   "name": "python3"
  },
  "language_info": {
   "codemirror_mode": {
    "name": "ipython",
    "version": 3
   },
   "file_extension": ".py",
   "mimetype": "text/x-python",
   "name": "python",
   "nbconvert_exporter": "python",
   "pygments_lexer": "ipython3",
   "version": "3.9.7"
  }
 },
 "nbformat": 4,
 "nbformat_minor": 4
}
